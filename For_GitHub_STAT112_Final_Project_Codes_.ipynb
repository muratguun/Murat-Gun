{
  "nbformat": 4,
  "nbformat_minor": 0,
  "metadata": {
    "colab": {
      "provenance": []
    },
    "kernelspec": {
      "name": "python3",
      "display_name": "Python 3"
    },
    "language_info": {
      "name": "python"
    }
  },
  "cells": [
    {
      "cell_type": "code",
      "execution_count": null,
      "metadata": {
        "id": "koYGpKBMuZex"
      },
      "outputs": [],
      "source": [
        "# Import the pandas and numpy libraries in the IDLE and import the dataset in the IDLE.\n",
        "import pandas as pd\n",
        "import numpy as np\n",
        "df = pd.read_excel(\"Data_Scientist_Salary.xlsx\")"
      ]
    },
    {
      "cell_type": "code",
      "source": [
        "#The columns in the data set were included in the data, but the title was not visible. We tried to fix this situation in this code.\n",
        "df.columns = df.iloc[1]\n",
        "df = df[2:]\n",
        "df.reset_index(drop=True, inplace=True)\n",
        "print(df)"
      ],
      "metadata": {
        "colab": {
          "base_uri": "https://localhost:8080/"
        },
        "id": "B0e89d-Fuy_2",
        "outputId": "49546827-2786-4e9f-b0a3-bd9fbed9e215"
      },
      "execution_count": null,
      "outputs": [
        {
          "output_type": "stream",
          "name": "stdout",
          "text": [
            "1   Year# Month# ##Experience //**Education       LOCATION COMPANY_SIZE  \\\n",
            "0    2017      1            5         Ph.D.  New York City        Large   \n",
            "1    2017      2            3      Master's    Los Angeles        Small   \n",
            "2    2017      3            7    Bachelor's  San Francisco       Medium   \n",
            "3    2017      4            6         Ph.D.        Chicago       Medium   \n",
            "4    2017      5            8      Master's  New York City        Small   \n",
            "..    ...    ...          ...           ...            ...          ...   \n",
            "139  2022      8           14    Bachelor's        Chicago       Medium   \n",
            "140  2022      9           13      Master's  New York City       Medium   \n",
            "141  2022     10           10         Ph.D.    Los Angeles        Small   \n",
            "142  2022     11           11    Bachelor's  San Francisco       Medium   \n",
            "143  2022     12           15      Master's        Chicago        Small   \n",
            "\n",
            "1                 Job_Position Work_Condition Programming_Languages  \\\n",
            "0    Machine Learning Engineer         Remote                Python   \n",
            "1            Applied Scientist         Office                Python   \n",
            "2                Data Engineer         Hybrid                Python   \n",
            "3               Data Scientist         Remote                Python   \n",
            "4               Data Scientist         Office                Python   \n",
            "..                         ...            ...                   ...   \n",
            "139          Applied Scientist         Remote                     R   \n",
            "140             Data Scientist         Hybrid              \"Python\"   \n",
            "141             Data Scientist         Office                Python   \n",
            "142  Machine Learning Engineer         REMOTE                Python   \n",
            "143             Data Scientist         Hybrid                Python   \n",
            "\n",
            "1   Machine_Learning_Libraries AGE OF DATA SCIENTIST  \\\n",
            "0                   TensorFlow                    30   \n",
            "1                      PyTorch                    28   \n",
            "2                 Scikit-Learn                    32   \n",
            "3                   TensorFlow                    34   \n",
            "4                 Scikit-Learn                    36   \n",
            "..                         ...                   ...   \n",
            "139               Scikit_Learn                    32   \n",
            "140                 Tensorflow                    36   \n",
            "141               Scikit-Learn                    33   \n",
            "142                    Pytorch                    34   \n",
            "143               Scikit-Learn                    37   \n",
            "\n",
            "1   the total number of work hours per week MONTHLY SALARY  \n",
            "0                                        45         135000  \n",
            "1                                        40         115000  \n",
            "2                                        48         128000  \n",
            "3                                        42         125000  \n",
            "4                                        45         140000  \n",
            "..                                      ...            ...  \n",
            "139                                      45         148000  \n",
            "140                                      42         160000  \n",
            "141                                      50         158000  \n",
            "142                                      42         152000  \n",
            "143                                      40         180000  \n",
            "\n",
            "[144 rows x 13 columns]\n"
          ]
        }
      ]
    },
    {
      "cell_type": "code",
      "source": [
        "#This code aims to clean and standardize the column names in the DataFrame by removing whitespaces, underscores, and converting them to lowercase.\n",
        "df.columns = df.columns.str.strip().str.replace('_', '').str.lower()"
      ],
      "metadata": {
        "id": "5aPWfZUSuzCG"
      },
      "execution_count": null,
      "outputs": []
    },
    {
      "cell_type": "code",
      "source": [
        "#This code aims to clean and modify the column names by removing specified characters ('/', '*', and '#') from both ends of each column name in the DataFrame.\n",
        "df.columns = df.columns.str.strip('/*#')"
      ],
      "metadata": {
        "id": "ySi9o1tKuzEN"
      },
      "execution_count": null,
      "outputs": []
    },
    {
      "cell_type": "code",
      "source": [
        "# This code aims to rename and modify all the column names in the dataset.\n",
        "df.rename(columns={\"companysize\":\"company_size\"},inplace = True)\n",
        "df.rename(columns={\"jobposition\":\"job_position\"},inplace = True)\n",
        "df.rename(columns={\"workcondition\":\"work_condition\"},inplace = True)\n",
        "df.rename(columns={\"programminglanguages\":\"programming_languages\"},inplace = True)\n",
        "df.rename(columns={\"machinelearninglibraries\":\"machine_learning_libraries\"},inplace = True)\n",
        "df.rename(columns={\"age of data scientist\":\"age_of_data_scientist\"},inplace = True)\n",
        "df.rename(columns={\"the total number of work hours per week\":\"the_total_number_of_work_hours_per_week\"},inplace = True)\n",
        "df.rename(columns={\"monthly salary\":\"monthly_salary\"},inplace = True)"
      ],
      "metadata": {
        "id": "9cuo-5PjuzGf"
      },
      "execution_count": null,
      "outputs": []
    },
    {
      "cell_type": "code",
      "source": [
        "#In this code snippet, each variable has been assigned its appropriate data type. Furthermore, the 'year' and 'month' columns have been combined to transform into a datetime column.\n",
        "df['experience'] = pd.to_numeric(df['experience'], errors='coerce')\n",
        "df['age_of_data_scientist'] = pd.to_numeric(df['age_of_data_scientist'], errors='coerce')\n",
        "df['the_total_number_of_work_hours_per_week'] = pd.to_numeric(df['the_total_number_of_work_hours_per_week'], errors='coerce')\n",
        "df['monthly_salary'] = pd.to_numeric(df['monthly_salary'], errors='coerce')\n",
        "df['date'] = pd.to_datetime(df['year'].astype(str) + '-' + df['month'].astype(str), format='%Y-%m', errors='coerce')\n",
        "df = df.drop(['year', 'month'], axis=1)\n",
        "print(df.info())"
      ],
      "metadata": {
        "colab": {
          "base_uri": "https://localhost:8080/"
        },
        "id": "6vZaL29huzI2",
        "outputId": "fe08463c-eff7-4924-f855-ece5d794385e"
      },
      "execution_count": null,
      "outputs": [
        {
          "output_type": "stream",
          "name": "stdout",
          "text": [
            "1    experience   education       location company_size  \\\n",
            "0           5.0       Ph.D.  New York City        Large   \n",
            "1           3.0    Master's    Los Angeles        Small   \n",
            "2           7.0  Bachelor's  San Francisco       Medium   \n",
            "3           6.0       Ph.D.        Chicago       Medium   \n",
            "4           8.0    Master's  New York City        Small   \n",
            "..          ...         ...            ...          ...   \n",
            "139        14.0  Bachelor's        Chicago       Medium   \n",
            "140        13.0    Master's  New York City       Medium   \n",
            "141        10.0       Ph.D.    Los Angeles        Small   \n",
            "142        11.0  Bachelor's  San Francisco       Medium   \n",
            "143        15.0    Master's        Chicago        Small   \n",
            "\n",
            "1                 job_position work_condition programming_languages  \\\n",
            "0    Machine Learning Engineer         Remote                Python   \n",
            "1            Applied Scientist         Office                Python   \n",
            "2                Data Engineer         Hybrid                Python   \n",
            "3               Data Scientist         Remote                Python   \n",
            "4               Data Scientist         Office                Python   \n",
            "..                         ...            ...                   ...   \n",
            "139          Applied Scientist         Remote                     R   \n",
            "140             Data Scientist         Hybrid              \"Python\"   \n",
            "141             Data Scientist         Office                Python   \n",
            "142  Machine Learning Engineer         REMOTE                Python   \n",
            "143             Data Scientist         Hybrid                Python   \n",
            "\n",
            "1   machine_learning_libraries  age_of_data_scientist  \\\n",
            "0                   TensorFlow                   30.0   \n",
            "1                      PyTorch                   28.0   \n",
            "2                 Scikit-Learn                   32.0   \n",
            "3                   TensorFlow                   34.0   \n",
            "4                 Scikit-Learn                   36.0   \n",
            "..                         ...                    ...   \n",
            "139               Scikit_Learn                   32.0   \n",
            "140                 Tensorflow                   36.0   \n",
            "141               Scikit-Learn                   33.0   \n",
            "142                    Pytorch                   34.0   \n",
            "143               Scikit-Learn                   37.0   \n",
            "\n",
            "1    the_total_number_of_work_hours_per_week  monthly_salary       date  \n",
            "0                                       45.0        135000.0 2017-01-01  \n",
            "1                                       40.0        115000.0 2017-02-01  \n",
            "2                                       48.0        128000.0 2017-03-01  \n",
            "3                                       42.0        125000.0 2017-04-01  \n",
            "4                                       45.0        140000.0 2017-05-01  \n",
            "..                                       ...             ...        ...  \n",
            "139                                     45.0        148000.0 2022-08-01  \n",
            "140                                     42.0        160000.0 2022-09-01  \n",
            "141                                     50.0        158000.0 2022-10-01  \n",
            "142                                     42.0        152000.0 2022-11-01  \n",
            "143                                     40.0        180000.0 2022-12-01  \n",
            "\n",
            "[144 rows x 12 columns]\n"
          ]
        }
      ]
    },
    {
      "cell_type": "code",
      "source": [
        "#The presence of NA values has been observed.\n",
        "print(df.isnull().sum())"
      ],
      "metadata": {
        "colab": {
          "base_uri": "https://localhost:8080/"
        },
        "id": "Bu9HvAXXuzKt",
        "outputId": "4a8d26f9-4dc7-4bac-9a9e-f7abf199bbfd"
      },
      "execution_count": null,
      "outputs": [
        {
          "output_type": "stream",
          "name": "stdout",
          "text": [
            "1\n",
            "experience                                 2\n",
            "education                                  1\n",
            "location                                   0\n",
            "company_size                               0\n",
            "job_position                               0\n",
            "work_condition                             0\n",
            "programming_languages                      1\n",
            "machine_learning_libraries                 0\n",
            "age_of_data_scientist                      1\n",
            "the_total_number_of_work_hours_per_week    3\n",
            "monthly_salary                             3\n",
            "date                                       0\n",
            "dtype: int64\n"
          ]
        }
      ]
    },
    {
      "cell_type": "code",
      "source": [
        "#The 'education' column was observed and it was determined that more than one value was the same but written differently.\n",
        "#This situation has been corrected with the following codes. Replace() and loc() functions were used.\n",
        "df['education'] = df['education'].str.replace(\" \",\"\",regex=True)\n",
        "df['education'].loc[df['education'] == 'Ph.D'] = 'Ph.D.'\n",
        "df['education'].loc[df['education'] == 'Bachelors'] = \"Bachelor's\"\n",
        "df['education'].value_counts()"
      ],
      "metadata": {
        "colab": {
          "base_uri": "https://localhost:8080/"
        },
        "id": "RdSDOB-3uzM0",
        "outputId": "39dbd8ea-dbb6-4339-f842-e67090abfff9"
      },
      "execution_count": null,
      "outputs": [
        {
          "output_type": "stream",
          "name": "stderr",
          "text": [
            "<ipython-input-8-e55777352386>:2: SettingWithCopyWarning: \n",
            "A value is trying to be set on a copy of a slice from a DataFrame\n",
            "\n",
            "See the caveats in the documentation: https://pandas.pydata.org/pandas-docs/stable/user_guide/indexing.html#returning-a-view-versus-a-copy\n",
            "  df['education'].loc[df['education'] == 'Ph.D'] = 'Ph.D.'\n",
            "<ipython-input-8-e55777352386>:3: SettingWithCopyWarning: \n",
            "A value is trying to be set on a copy of a slice from a DataFrame\n",
            "\n",
            "See the caveats in the documentation: https://pandas.pydata.org/pandas-docs/stable/user_guide/indexing.html#returning-a-view-versus-a-copy\n",
            "  df['education'].loc[df['education'] == 'Bachelors'] = \"Bachelor's\"\n"
          ]
        },
        {
          "output_type": "execute_result",
          "data": {
            "text/plain": [
              "Ph.D.         48\n",
              "Bachelor's    48\n",
              "Master's      47\n",
              "Name: education, dtype: int64"
            ]
          },
          "metadata": {},
          "execution_count": 8
        }
      ]
    },
    {
      "cell_type": "code",
      "source": [
        "#The 'location' column was observed and it was determined that more than one value was the same but written differently.\n",
        "#This situation has been corrected with the following codes. Title function was used to capitalized the first letter of each word.\n",
        "df['location'] = df['location'].str.title()\n",
        "df['location'].value_counts()"
      ],
      "metadata": {
        "colab": {
          "base_uri": "https://localhost:8080/"
        },
        "id": "zF16zZwOuzO7",
        "outputId": "b7e5927d-1434-49ac-84f1-2c96b7bf6009"
      },
      "execution_count": null,
      "outputs": [
        {
          "output_type": "execute_result",
          "data": {
            "text/plain": [
              "New York City    36\n",
              "Los Angeles      36\n",
              "San Francisco    36\n",
              "Chicago          36\n",
              "Name: location, dtype: int64"
            ]
          },
          "metadata": {},
          "execution_count": 9
        }
      ]
    },
    {
      "cell_type": "code",
      "source": [
        "#The 'company_size' column was observed and it was determined that more than one value was the same but written differently.\n",
        "#This situation has been corrected with the following codes. Title function was used to capitalized the first letter of each word.\n",
        "#Loc function was used to change all of the wrong values in company_size column.\n",
        "df['company_size'] = df['company_size'].str.title()\n",
        "df['company_size'].loc[df['company_size'] == ' Small'] = 'Small'\n",
        "df['company_size'].loc[df['company_size'] == ' Medium'] = 'Medium'\n",
        "df['company_size'].value_counts()"
      ],
      "metadata": {
        "colab": {
          "base_uri": "https://localhost:8080/"
        },
        "id": "N_Dt9Ae3uzRO",
        "outputId": "1d24b1ab-0fe1-4a4f-900f-9328646caaf6"
      },
      "execution_count": null,
      "outputs": [
        {
          "output_type": "stream",
          "name": "stderr",
          "text": [
            "<ipython-input-10-8f6465eccd1c>:2: SettingWithCopyWarning: \n",
            "A value is trying to be set on a copy of a slice from a DataFrame\n",
            "\n",
            "See the caveats in the documentation: https://pandas.pydata.org/pandas-docs/stable/user_guide/indexing.html#returning-a-view-versus-a-copy\n",
            "  df['company_size'].loc[df['company_size'] == ' Small'] = 'Small'\n",
            "<ipython-input-10-8f6465eccd1c>:3: SettingWithCopyWarning: \n",
            "A value is trying to be set on a copy of a slice from a DataFrame\n",
            "\n",
            "See the caveats in the documentation: https://pandas.pydata.org/pandas-docs/stable/user_guide/indexing.html#returning-a-view-versus-a-copy\n",
            "  df['company_size'].loc[df['company_size'] == ' Medium'] = 'Medium'\n"
          ]
        },
        {
          "output_type": "execute_result",
          "data": {
            "text/plain": [
              "Medium    64\n",
              "Large     40\n",
              "Small     40\n",
              "Name: company_size, dtype: int64"
            ]
          },
          "metadata": {},
          "execution_count": 10
        }
      ]
    },
    {
      "cell_type": "code",
      "source": [
        "#The 'programming_languages' column was observed and it was determined that more than one value was the same but written differently.\n",
        "#This situation has been corrected with the following codes. Using the replace function, some signs in the data were replaced with the desired signs.\n",
        "df['programming_languages'] = df['programming_languages'].str.replace('\"\"','',regex=True)\n",
        "df['programming_languages'] = df['programming_languages'].str.replace(' ','',regex=True)\n",
        "df['programming_languages'] = df['programming_languages'].str.replace('\"', '')\n",
        "df['programming_languages'].value_counts()"
      ],
      "metadata": {
        "colab": {
          "base_uri": "https://localhost:8080/"
        },
        "id": "8ZvK8ABzuzTV",
        "outputId": "4d21143d-5317-42b4-c89c-b91d3e5154df"
      },
      "execution_count": null,
      "outputs": [
        {
          "output_type": "execute_result",
          "data": {
            "text/plain": [
              "Python    109\n",
              "R          34\n",
              "Name: programming_languages, dtype: int64"
            ]
          },
          "metadata": {},
          "execution_count": 11
        }
      ]
    },
    {
      "cell_type": "code",
      "source": [
        "# The 'work_condition' column was observed and it was determined that more than one value was the same but written differently.\n",
        "# Loc function was used to change all of the wrong values in work_condition column.\n",
        "df['work_condition'].loc[df['work_condition'] == 'OFFICE'] = 'Office'\n",
        "df['work_condition'].loc[df['work_condition'] == ' HYBRID'] = 'Hybrid'\n",
        "df['work_condition'].loc[df['work_condition'] == 'HYBRID'] = 'Hybrid'\n",
        "df['work_condition'].loc[df['work_condition'] == ' Hybrid'] = 'Hybrid'\n",
        "df['work_condition'].loc[df['work_condition'] == 'remote'] = 'Remote'\n",
        "df['work_condition'].loc[df['work_condition'] == ' Remote'] = 'Remote'\n",
        "df['work_condition'].loc[df['work_condition'] == 'REMOTE'] = 'Remote'\n",
        "df['work_condition'].value_counts()"
      ],
      "metadata": {
        "colab": {
          "base_uri": "https://localhost:8080/"
        },
        "id": "HIlrW854uzVn",
        "outputId": "377b377e-a59b-4990-9d9c-d8cb44902e60"
      },
      "execution_count": null,
      "outputs": [
        {
          "output_type": "stream",
          "name": "stderr",
          "text": [
            "<ipython-input-12-72fa9407bdfc>:1: SettingWithCopyWarning: \n",
            "A value is trying to be set on a copy of a slice from a DataFrame\n",
            "\n",
            "See the caveats in the documentation: https://pandas.pydata.org/pandas-docs/stable/user_guide/indexing.html#returning-a-view-versus-a-copy\n",
            "  df['work_condition'].loc[df['work_condition'] == 'OFFICE'] = 'Office'\n",
            "<ipython-input-12-72fa9407bdfc>:2: SettingWithCopyWarning: \n",
            "A value is trying to be set on a copy of a slice from a DataFrame\n",
            "\n",
            "See the caveats in the documentation: https://pandas.pydata.org/pandas-docs/stable/user_guide/indexing.html#returning-a-view-versus-a-copy\n",
            "  df['work_condition'].loc[df['work_condition'] == ' HYBRID'] = 'Hybrid'\n",
            "<ipython-input-12-72fa9407bdfc>:3: SettingWithCopyWarning: \n",
            "A value is trying to be set on a copy of a slice from a DataFrame\n",
            "\n",
            "See the caveats in the documentation: https://pandas.pydata.org/pandas-docs/stable/user_guide/indexing.html#returning-a-view-versus-a-copy\n",
            "  df['work_condition'].loc[df['work_condition'] == 'HYBRID'] = 'Hybrid'\n",
            "<ipython-input-12-72fa9407bdfc>:4: SettingWithCopyWarning: \n",
            "A value is trying to be set on a copy of a slice from a DataFrame\n",
            "\n",
            "See the caveats in the documentation: https://pandas.pydata.org/pandas-docs/stable/user_guide/indexing.html#returning-a-view-versus-a-copy\n",
            "  df['work_condition'].loc[df['work_condition'] == ' Hybrid'] = 'Hybrid'\n",
            "<ipython-input-12-72fa9407bdfc>:5: SettingWithCopyWarning: \n",
            "A value is trying to be set on a copy of a slice from a DataFrame\n",
            "\n",
            "See the caveats in the documentation: https://pandas.pydata.org/pandas-docs/stable/user_guide/indexing.html#returning-a-view-versus-a-copy\n",
            "  df['work_condition'].loc[df['work_condition'] == 'remote'] = 'Remote'\n",
            "<ipython-input-12-72fa9407bdfc>:6: SettingWithCopyWarning: \n",
            "A value is trying to be set on a copy of a slice from a DataFrame\n",
            "\n",
            "See the caveats in the documentation: https://pandas.pydata.org/pandas-docs/stable/user_guide/indexing.html#returning-a-view-versus-a-copy\n",
            "  df['work_condition'].loc[df['work_condition'] == ' Remote'] = 'Remote'\n",
            "<ipython-input-12-72fa9407bdfc>:7: SettingWithCopyWarning: \n",
            "A value is trying to be set on a copy of a slice from a DataFrame\n",
            "\n",
            "See the caveats in the documentation: https://pandas.pydata.org/pandas-docs/stable/user_guide/indexing.html#returning-a-view-versus-a-copy\n",
            "  df['work_condition'].loc[df['work_condition'] == 'REMOTE'] = 'Remote'\n"
          ]
        },
        {
          "output_type": "execute_result",
          "data": {
            "text/plain": [
              "Remote    48\n",
              "Office    48\n",
              "Hybrid    48\n",
              "Name: work_condition, dtype: int64"
            ]
          },
          "metadata": {},
          "execution_count": 12
        }
      ]
    },
    {
      "cell_type": "code",
      "source": [
        "# The 'job_position' column was observed and it was determined that more than one value was the same but written differently.\n",
        "# Loc function was used to change all of the wrong values in job_position column.\n",
        "# Using the replace function, some signs in the data were replaced with the desired signs.\n",
        "df['job_position'] = df['job_position'].str.replace('\"', '')\n",
        "df['job_position'] = df['job_position'].str.replace('_', '')\n",
        "df['job_position'].loc[df['job_position'] == 'DataScientist'] = 'Data Scientist'\n",
        "df['job_position'].loc[df['job_position'] == 'MachineLearningEngineer'] = 'Machine Learning Engineer'\n",
        "df['job_position'].loc[df['job_position'] == ' Applied Scientist'] = 'Applied Scientist'\n",
        "df['job_position'].value_counts()"
      ],
      "metadata": {
        "colab": {
          "base_uri": "https://localhost:8080/"
        },
        "id": "ozArNjXNuzX7",
        "outputId": "90ca997e-f80a-4436-9184-19f1102191f8"
      },
      "execution_count": null,
      "outputs": [
        {
          "output_type": "stream",
          "name": "stderr",
          "text": [
            "<ipython-input-13-4d7cc30fbbc4>:3: SettingWithCopyWarning: \n",
            "A value is trying to be set on a copy of a slice from a DataFrame\n",
            "\n",
            "See the caveats in the documentation: https://pandas.pydata.org/pandas-docs/stable/user_guide/indexing.html#returning-a-view-versus-a-copy\n",
            "  df['job_position'].loc[df['job_position'] == 'DataScientist'] = 'Data Scientist'\n",
            "<ipython-input-13-4d7cc30fbbc4>:4: SettingWithCopyWarning: \n",
            "A value is trying to be set on a copy of a slice from a DataFrame\n",
            "\n",
            "See the caveats in the documentation: https://pandas.pydata.org/pandas-docs/stable/user_guide/indexing.html#returning-a-view-versus-a-copy\n",
            "  df['job_position'].loc[df['job_position'] == 'MachineLearningEngineer'] = 'Machine Learning Engineer'\n",
            "<ipython-input-13-4d7cc30fbbc4>:5: SettingWithCopyWarning: \n",
            "A value is trying to be set on a copy of a slice from a DataFrame\n",
            "\n",
            "See the caveats in the documentation: https://pandas.pydata.org/pandas-docs/stable/user_guide/indexing.html#returning-a-view-versus-a-copy\n",
            "  df['job_position'].loc[df['job_position'] == ' Applied Scientist'] = 'Applied Scientist'\n"
          ]
        },
        {
          "output_type": "execute_result",
          "data": {
            "text/plain": [
              "Data Scientist               60\n",
              "Machine Learning Engineer    36\n",
              "Applied Scientist            24\n",
              "Data Engineer                24\n",
              "Name: job_position, dtype: int64"
            ]
          },
          "metadata": {},
          "execution_count": 13
        }
      ]
    },
    {
      "cell_type": "code",
      "source": [
        "# The 'machine_learning_libraries' column was observed and it was determined that more than one value was the same but written differently.\n",
        "# Loc function was used to change all of the wrong written values in job_position column.\n",
        "df['machine_learning_libraries'].loc[df['machine_learning_libraries'] == 'Pytorch'] = 'PyTorch'\n",
        "df['machine_learning_libraries'].loc[df['machine_learning_libraries'] == 'Scikit_Learn'] = 'Scikit-Learn'\n",
        "df['machine_learning_libraries'].loc[df['machine_learning_libraries'] == 'Tensorflow'] = 'TensorFlow'\n",
        "df['machine_learning_libraries'].value_counts()"
      ],
      "metadata": {
        "colab": {
          "base_uri": "https://localhost:8080/"
        },
        "id": "PwLRpkvAuzaL",
        "outputId": "aa9b3f67-3203-4ef4-ea68-ed10189c802a"
      },
      "execution_count": null,
      "outputs": [
        {
          "output_type": "stream",
          "name": "stderr",
          "text": [
            "<ipython-input-14-c771fd00ed46>:1: SettingWithCopyWarning: \n",
            "A value is trying to be set on a copy of a slice from a DataFrame\n",
            "\n",
            "See the caveats in the documentation: https://pandas.pydata.org/pandas-docs/stable/user_guide/indexing.html#returning-a-view-versus-a-copy\n",
            "  df['machine_learning_libraries'].loc[df['machine_learning_libraries'] == 'Pytorch'] = 'PyTorch'\n",
            "<ipython-input-14-c771fd00ed46>:2: SettingWithCopyWarning: \n",
            "A value is trying to be set on a copy of a slice from a DataFrame\n",
            "\n",
            "See the caveats in the documentation: https://pandas.pydata.org/pandas-docs/stable/user_guide/indexing.html#returning-a-view-versus-a-copy\n",
            "  df['machine_learning_libraries'].loc[df['machine_learning_libraries'] == 'Scikit_Learn'] = 'Scikit-Learn'\n",
            "<ipython-input-14-c771fd00ed46>:3: SettingWithCopyWarning: \n",
            "A value is trying to be set on a copy of a slice from a DataFrame\n",
            "\n",
            "See the caveats in the documentation: https://pandas.pydata.org/pandas-docs/stable/user_guide/indexing.html#returning-a-view-versus-a-copy\n",
            "  df['machine_learning_libraries'].loc[df['machine_learning_libraries'] == 'Tensorflow'] = 'TensorFlow'\n"
          ]
        },
        {
          "output_type": "execute_result",
          "data": {
            "text/plain": [
              "Scikit-Learn    82\n",
              "TensorFlow      36\n",
              "PyTorch         26\n",
              "Name: machine_learning_libraries, dtype: int64"
            ]
          },
          "metadata": {},
          "execution_count": 14
        }
      ]
    },
    {
      "cell_type": "code",
      "source": [
        "#This code was used to determine and sum duplicated values.\n",
        "df.duplicated().sum()"
      ],
      "metadata": {
        "colab": {
          "base_uri": "https://localhost:8080/"
        },
        "id": "dSDhfLlquzce",
        "outputId": "df77ba7b-d2fe-45f0-e6a2-d2aacc53692e"
      },
      "execution_count": null,
      "outputs": [
        {
          "output_type": "execute_result",
          "data": {
            "text/plain": [
              "0"
            ]
          },
          "metadata": {},
          "execution_count": 15
        }
      ]
    },
    {
      "cell_type": "code",
      "source": [
        "#All the duplicates in this dataset was dropped.\n",
        "df = df.drop_duplicates()"
      ],
      "metadata": {
        "id": "5es04JOruzez"
      },
      "execution_count": null,
      "outputs": []
    },
    {
      "cell_type": "code",
      "source": [
        "print(df.describe())"
      ],
      "metadata": {
        "colab": {
          "base_uri": "https://localhost:8080/"
        },
        "id": "yRlALoIuv506",
        "outputId": "95707d10-ad29-4e37-bb49-d0c31da06b12"
      },
      "execution_count": null,
      "outputs": [
        {
          "output_type": "stream",
          "name": "stdout",
          "text": [
            "1  experience   education       location company_size  \\\n",
            "0         5.0       Ph.D.  New York City        Large   \n",
            "1         3.0    Master's    Los Angeles        Small   \n",
            "2         7.0  Bachelor's  San Francisco       Medium   \n",
            "3         6.0       Ph.D.        Chicago       Medium   \n",
            "4         8.0    Master's  New York City        Small   \n",
            "\n",
            "1               job_position work_condition programming_languages  \\\n",
            "0  Machine Learning Engineer         Remote                Python   \n",
            "1          Applied Scientist         Office                Python   \n",
            "2              Data Engineer         Hybrid                Python   \n",
            "3             Data Scientist         Remote                Python   \n",
            "4             Data Scientist         Office                Python   \n",
            "\n",
            "1 machine_learning_libraries  age_of_data_scientist  \\\n",
            "0                 TensorFlow                   30.0   \n",
            "1                    PyTorch                   28.0   \n",
            "2               Scikit-Learn                   32.0   \n",
            "3                 TensorFlow                   34.0   \n",
            "4               Scikit-Learn                   36.0   \n",
            "\n",
            "1  the_total_number_of_work_hours_per_week  monthly_salary       date  \n",
            "0                                     45.0        135000.0 2017-01-01  \n",
            "1                                     40.0        115000.0 2017-02-01  \n",
            "2                                     48.0        128000.0 2017-03-01  \n",
            "3                                     42.0        125000.0 2017-04-01  \n",
            "4                                     45.0        140000.0 2017-05-01  \n"
          ]
        }
      ]
    },
    {
      "cell_type": "code",
      "source": [
        "#In this code, we created descriptive_stats variable to describe and observe the values in dataset.\n",
        "#Then it was determined a mistake in age_of_data_scienctist that consist of negative values.\n",
        "#The problem was solved by using .abs() function.\n",
        "descriptive_stats = df.describe()\n",
        "print(descriptive_stats)\n",
        "df['age_of_data_scientist'] = df['age_of_data_scientist'].abs()"
      ],
      "metadata": {
        "id": "TkOsI_EnuzhG"
      },
      "execution_count": null,
      "outputs": []
    },
    {
      "cell_type": "code",
      "source": [
        "print(df.head())"
      ],
      "metadata": {
        "colab": {
          "base_uri": "https://localhost:8080/"
        },
        "id": "kUS9dUpiv_8n",
        "outputId": "a542daa1-29bc-437a-ae0b-9569a865b2db"
      },
      "execution_count": null,
      "outputs": [
        {
          "output_type": "stream",
          "name": "stdout",
          "text": [
            "1  experience   education       location company_size  \\\n",
            "0         5.0       Ph.D.  New York City        Large   \n",
            "1         3.0    Master's    Los Angeles        Small   \n",
            "2         7.0  Bachelor's  San Francisco       Medium   \n",
            "3         6.0       Ph.D.        Chicago       Medium   \n",
            "4         8.0    Master's  New York City        Small   \n",
            "\n",
            "1               job_position work_condition programming_languages  \\\n",
            "0  Machine Learning Engineer         Remote                Python   \n",
            "1          Applied Scientist         Office                Python   \n",
            "2              Data Engineer         Hybrid                Python   \n",
            "3             Data Scientist         Remote                Python   \n",
            "4             Data Scientist         Office                Python   \n",
            "\n",
            "1 machine_learning_libraries  age_of_data_scientist  \\\n",
            "0                 TensorFlow                   30.0   \n",
            "1                    PyTorch                   28.0   \n",
            "2               Scikit-Learn                   32.0   \n",
            "3                 TensorFlow                   34.0   \n",
            "4               Scikit-Learn                   36.0   \n",
            "\n",
            "1  the_total_number_of_work_hours_per_week  monthly_salary       date  \n",
            "0                                     45.0        135000.0 2017-01-01  \n",
            "1                                     40.0        115000.0 2017-02-01  \n",
            "2                                     48.0        128000.0 2017-03-01  \n",
            "3                                     42.0        125000.0 2017-04-01  \n",
            "4                                     45.0        140000.0 2017-05-01  \n"
          ]
        }
      ]
    },
    {
      "cell_type": "code",
      "source": [
        "#The following 4 codes in order to find outliers in these numerical variables for each column.\n",
        "Q1_Experience = df.experience.quantile(0.25)\n",
        "Q3_Experience = df.experience.quantile(0.75)\n",
        "IQR_Experience = Q3_Experience -Q1_Experience\n",
        "Lower_Limit_Experience = Q1_Experience - 1.5*IQR_Experience\n",
        "Upper_Limit_Experience = Q3_Experience + 1.5*IQR_Experience\n",
        "Lower_Limit_Experience, Upper_Limit_Experience"
      ],
      "metadata": {
        "colab": {
          "base_uri": "https://localhost:8080/"
        },
        "id": "SDNf8uNcuzly",
        "outputId": "e0c5abe5-40d5-403b-aa3a-28c5e1e23b7b"
      },
      "execution_count": null,
      "outputs": [
        {
          "output_type": "execute_result",
          "data": {
            "text/plain": [
              "(-1.875, 17.125)"
            ]
          },
          "metadata": {},
          "execution_count": 21
        }
      ]
    },
    {
      "cell_type": "code",
      "source": [
        "Q1_age_of_data_scientist = df.age_of_data_scientist.quantile(0.25)\n",
        "Q3_age_of_data_scientist = df.age_of_data_scientist.quantile(0.75)\n",
        "IQR_age_of_data_scientist = Q3_age_of_data_scientist - Q1_age_of_data_scientist\n",
        "Lower_Limit_age_of_data_scientist = Q1_age_of_data_scientist - 1.5*IQR_age_of_data_scientist\n",
        "Upper_Limit_age_of_data_scientist = Q3_age_of_data_scientist + 1.5*IQR_age_of_data_scientist\n",
        "Lower_Limit_age_of_data_scientist, Upper_Limit_age_of_data_scientist"
      ],
      "metadata": {
        "colab": {
          "base_uri": "https://localhost:8080/"
        },
        "id": "am0JR1UNuzn6",
        "outputId": "ad9f7e1c-a018-48b1-fe63-c969aa7ed9ef"
      },
      "execution_count": null,
      "outputs": [
        {
          "output_type": "execute_result",
          "data": {
            "text/plain": [
              "(25.0, 41.0)"
            ]
          },
          "metadata": {},
          "execution_count": 22
        }
      ]
    },
    {
      "cell_type": "code",
      "source": [
        "Q1_the_total_number_of_work_hours_per_week = df.the_total_number_of_work_hours_per_week.quantile(0.25)\n",
        "Q3_the_total_number_of_work_hours_per_week = df.the_total_number_of_work_hours_per_week.quantile(0.75)\n",
        "IQR_the_total_number_of_work_hours_per_week = Q3_the_total_number_of_work_hours_per_week -Q1_the_total_number_of_work_hours_per_week\n",
        "Lower_Limit_the_total_number_of_work_hours_per_week = Q1_the_total_number_of_work_hours_per_week - 1.5*IQR_the_total_number_of_work_hours_per_week\n",
        "Upper_Limit_the_total_number_of_work_hours_per_week = Q3_the_total_number_of_work_hours_per_week + 1.5*IQR_the_total_number_of_work_hours_per_week\n",
        "Lower_Limit_the_total_number_of_work_hours_per_week, Upper_Limit_the_total_number_of_work_hours_per_week"
      ],
      "metadata": {
        "colab": {
          "base_uri": "https://localhost:8080/"
        },
        "id": "tsM0KVKauzqW",
        "outputId": "0e6c51f8-efa8-440c-ffbf-51cd97bf3d2f"
      },
      "execution_count": null,
      "outputs": [
        {
          "output_type": "execute_result",
          "data": {
            "text/plain": [
              "(32.5, 52.5)"
            ]
          },
          "metadata": {},
          "execution_count": 23
        }
      ]
    },
    {
      "cell_type": "code",
      "source": [
        "Q1_MonthlySalary = df.monthly_salary.quantile(0.25)\n",
        "Q3_MonthlySalary = df.monthly_salary.quantile(0.75)\n",
        "IQR_MonthlySalary = Q3_MonthlySalary -Q1_MonthlySalary\n",
        "Lower_Limit_MonthlySalary = Q1_MonthlySalary - 1.5*IQR_MonthlySalary\n",
        "Upper_Limit_MonthlySalary = Q3_MonthlySalary + 1.5*IQR_MonthlySalary\n",
        "Lower_Limit_MonthlySalary, Upper_Limit_MonthlySalary"
      ],
      "metadata": {
        "colab": {
          "base_uri": "https://localhost:8080/"
        },
        "id": "mpd9ymKPuzsp",
        "outputId": "7aaa2354-18f8-476b-a6a9-e0b2a87c87c9"
      },
      "execution_count": null,
      "outputs": [
        {
          "output_type": "execute_result",
          "data": {
            "text/plain": [
              "(68000.0, 212000.0)"
            ]
          },
          "metadata": {},
          "execution_count": 24
        }
      ]
    },
    {
      "cell_type": "code",
      "source": [
        "#It was created a new_df was to determine and show null values and their percetanges.\n",
        "new_df = pd.DataFrame(df.isnull().sum())\n",
        "new_df.columns = ['Missing Number']\n",
        "new_df['Missing Percentage'] = (new_df['Missing Number']*100)/df.shape[0]\n",
        "new_df"
      ],
      "metadata": {
        "colab": {
          "base_uri": "https://localhost:8080/",
          "height": 457
        },
        "id": "Ew9kzFRruzu7",
        "outputId": "2124b8d3-1312-41f8-9e03-c67a49deee96"
      },
      "execution_count": null,
      "outputs": [
        {
          "output_type": "execute_result",
          "data": {
            "text/plain": [
              "                                         Missing Number  Missing Percentage\n",
              "1                                                                          \n",
              "experience                                            2            1.388889\n",
              "education                                             1            0.694444\n",
              "location                                              0            0.000000\n",
              "company_size                                          0            0.000000\n",
              "job_position                                          0            0.000000\n",
              "work_condition                                        0            0.000000\n",
              "programming_languages                                 1            0.694444\n",
              "machine_learning_libraries                            0            0.000000\n",
              "age_of_data_scientist                                 1            0.694444\n",
              "the_total_number_of_work_hours_per_week               3            2.083333\n",
              "monthly_salary                                        3            2.083333\n",
              "date                                                  0            0.000000"
            ],
            "text/html": [
              "\n",
              "  <div id=\"df-f572935e-8b4c-4dba-b020-d15d91c03719\" class=\"colab-df-container\">\n",
              "    <div>\n",
              "<style scoped>\n",
              "    .dataframe tbody tr th:only-of-type {\n",
              "        vertical-align: middle;\n",
              "    }\n",
              "\n",
              "    .dataframe tbody tr th {\n",
              "        vertical-align: top;\n",
              "    }\n",
              "\n",
              "    .dataframe thead th {\n",
              "        text-align: right;\n",
              "    }\n",
              "</style>\n",
              "<table border=\"1\" class=\"dataframe\">\n",
              "  <thead>\n",
              "    <tr style=\"text-align: right;\">\n",
              "      <th></th>\n",
              "      <th>Missing Number</th>\n",
              "      <th>Missing Percentage</th>\n",
              "    </tr>\n",
              "    <tr>\n",
              "      <th>1</th>\n",
              "      <th></th>\n",
              "      <th></th>\n",
              "    </tr>\n",
              "  </thead>\n",
              "  <tbody>\n",
              "    <tr>\n",
              "      <th>experience</th>\n",
              "      <td>2</td>\n",
              "      <td>1.388889</td>\n",
              "    </tr>\n",
              "    <tr>\n",
              "      <th>education</th>\n",
              "      <td>1</td>\n",
              "      <td>0.694444</td>\n",
              "    </tr>\n",
              "    <tr>\n",
              "      <th>location</th>\n",
              "      <td>0</td>\n",
              "      <td>0.000000</td>\n",
              "    </tr>\n",
              "    <tr>\n",
              "      <th>company_size</th>\n",
              "      <td>0</td>\n",
              "      <td>0.000000</td>\n",
              "    </tr>\n",
              "    <tr>\n",
              "      <th>job_position</th>\n",
              "      <td>0</td>\n",
              "      <td>0.000000</td>\n",
              "    </tr>\n",
              "    <tr>\n",
              "      <th>work_condition</th>\n",
              "      <td>0</td>\n",
              "      <td>0.000000</td>\n",
              "    </tr>\n",
              "    <tr>\n",
              "      <th>programming_languages</th>\n",
              "      <td>1</td>\n",
              "      <td>0.694444</td>\n",
              "    </tr>\n",
              "    <tr>\n",
              "      <th>machine_learning_libraries</th>\n",
              "      <td>0</td>\n",
              "      <td>0.000000</td>\n",
              "    </tr>\n",
              "    <tr>\n",
              "      <th>age_of_data_scientist</th>\n",
              "      <td>1</td>\n",
              "      <td>0.694444</td>\n",
              "    </tr>\n",
              "    <tr>\n",
              "      <th>the_total_number_of_work_hours_per_week</th>\n",
              "      <td>3</td>\n",
              "      <td>2.083333</td>\n",
              "    </tr>\n",
              "    <tr>\n",
              "      <th>monthly_salary</th>\n",
              "      <td>3</td>\n",
              "      <td>2.083333</td>\n",
              "    </tr>\n",
              "    <tr>\n",
              "      <th>date</th>\n",
              "      <td>0</td>\n",
              "      <td>0.000000</td>\n",
              "    </tr>\n",
              "  </tbody>\n",
              "</table>\n",
              "</div>\n",
              "    <div class=\"colab-df-buttons\">\n",
              "\n",
              "  <div class=\"colab-df-container\">\n",
              "    <button class=\"colab-df-convert\" onclick=\"convertToInteractive('df-f572935e-8b4c-4dba-b020-d15d91c03719')\"\n",
              "            title=\"Convert this dataframe to an interactive table.\"\n",
              "            style=\"display:none;\">\n",
              "\n",
              "  <svg xmlns=\"http://www.w3.org/2000/svg\" height=\"24px\" viewBox=\"0 -960 960 960\">\n",
              "    <path d=\"M120-120v-720h720v720H120Zm60-500h600v-160H180v160Zm220 220h160v-160H400v160Zm0 220h160v-160H400v160ZM180-400h160v-160H180v160Zm440 0h160v-160H620v160ZM180-180h160v-160H180v160Zm440 0h160v-160H620v160Z\"/>\n",
              "  </svg>\n",
              "    </button>\n",
              "\n",
              "  <style>\n",
              "    .colab-df-container {\n",
              "      display:flex;\n",
              "      gap: 12px;\n",
              "    }\n",
              "\n",
              "    .colab-df-convert {\n",
              "      background-color: #E8F0FE;\n",
              "      border: none;\n",
              "      border-radius: 50%;\n",
              "      cursor: pointer;\n",
              "      display: none;\n",
              "      fill: #1967D2;\n",
              "      height: 32px;\n",
              "      padding: 0 0 0 0;\n",
              "      width: 32px;\n",
              "    }\n",
              "\n",
              "    .colab-df-convert:hover {\n",
              "      background-color: #E2EBFA;\n",
              "      box-shadow: 0px 1px 2px rgba(60, 64, 67, 0.3), 0px 1px 3px 1px rgba(60, 64, 67, 0.15);\n",
              "      fill: #174EA6;\n",
              "    }\n",
              "\n",
              "    .colab-df-buttons div {\n",
              "      margin-bottom: 4px;\n",
              "    }\n",
              "\n",
              "    [theme=dark] .colab-df-convert {\n",
              "      background-color: #3B4455;\n",
              "      fill: #D2E3FC;\n",
              "    }\n",
              "\n",
              "    [theme=dark] .colab-df-convert:hover {\n",
              "      background-color: #434B5C;\n",
              "      box-shadow: 0px 1px 3px 1px rgba(0, 0, 0, 0.15);\n",
              "      filter: drop-shadow(0px 1px 2px rgba(0, 0, 0, 0.3));\n",
              "      fill: #FFFFFF;\n",
              "    }\n",
              "  </style>\n",
              "\n",
              "    <script>\n",
              "      const buttonEl =\n",
              "        document.querySelector('#df-f572935e-8b4c-4dba-b020-d15d91c03719 button.colab-df-convert');\n",
              "      buttonEl.style.display =\n",
              "        google.colab.kernel.accessAllowed ? 'block' : 'none';\n",
              "\n",
              "      async function convertToInteractive(key) {\n",
              "        const element = document.querySelector('#df-f572935e-8b4c-4dba-b020-d15d91c03719');\n",
              "        const dataTable =\n",
              "          await google.colab.kernel.invokeFunction('convertToInteractive',\n",
              "                                                    [key], {});\n",
              "        if (!dataTable) return;\n",
              "\n",
              "        const docLinkHtml = 'Like what you see? Visit the ' +\n",
              "          '<a target=\"_blank\" href=https://colab.research.google.com/notebooks/data_table.ipynb>data table notebook</a>'\n",
              "          + ' to learn more about interactive tables.';\n",
              "        element.innerHTML = '';\n",
              "        dataTable['output_type'] = 'display_data';\n",
              "        await google.colab.output.renderOutput(dataTable, element);\n",
              "        const docLink = document.createElement('div');\n",
              "        docLink.innerHTML = docLinkHtml;\n",
              "        element.appendChild(docLink);\n",
              "      }\n",
              "    </script>\n",
              "  </div>\n",
              "\n",
              "\n",
              "<div id=\"df-ee94402b-4a84-42f3-8408-c2440f767cde\">\n",
              "  <button class=\"colab-df-quickchart\" onclick=\"quickchart('df-ee94402b-4a84-42f3-8408-c2440f767cde')\"\n",
              "            title=\"Suggest charts\"\n",
              "            style=\"display:none;\">\n",
              "\n",
              "<svg xmlns=\"http://www.w3.org/2000/svg\" height=\"24px\"viewBox=\"0 0 24 24\"\n",
              "     width=\"24px\">\n",
              "    <g>\n",
              "        <path d=\"M19 3H5c-1.1 0-2 .9-2 2v14c0 1.1.9 2 2 2h14c1.1 0 2-.9 2-2V5c0-1.1-.9-2-2-2zM9 17H7v-7h2v7zm4 0h-2V7h2v10zm4 0h-2v-4h2v4z\"/>\n",
              "    </g>\n",
              "</svg>\n",
              "  </button>\n",
              "\n",
              "<style>\n",
              "  .colab-df-quickchart {\n",
              "      --bg-color: #E8F0FE;\n",
              "      --fill-color: #1967D2;\n",
              "      --hover-bg-color: #E2EBFA;\n",
              "      --hover-fill-color: #174EA6;\n",
              "      --disabled-fill-color: #AAA;\n",
              "      --disabled-bg-color: #DDD;\n",
              "  }\n",
              "\n",
              "  [theme=dark] .colab-df-quickchart {\n",
              "      --bg-color: #3B4455;\n",
              "      --fill-color: #D2E3FC;\n",
              "      --hover-bg-color: #434B5C;\n",
              "      --hover-fill-color: #FFFFFF;\n",
              "      --disabled-bg-color: #3B4455;\n",
              "      --disabled-fill-color: #666;\n",
              "  }\n",
              "\n",
              "  .colab-df-quickchart {\n",
              "    background-color: var(--bg-color);\n",
              "    border: none;\n",
              "    border-radius: 50%;\n",
              "    cursor: pointer;\n",
              "    display: none;\n",
              "    fill: var(--fill-color);\n",
              "    height: 32px;\n",
              "    padding: 0;\n",
              "    width: 32px;\n",
              "  }\n",
              "\n",
              "  .colab-df-quickchart:hover {\n",
              "    background-color: var(--hover-bg-color);\n",
              "    box-shadow: 0 1px 2px rgba(60, 64, 67, 0.3), 0 1px 3px 1px rgba(60, 64, 67, 0.15);\n",
              "    fill: var(--button-hover-fill-color);\n",
              "  }\n",
              "\n",
              "  .colab-df-quickchart-complete:disabled,\n",
              "  .colab-df-quickchart-complete:disabled:hover {\n",
              "    background-color: var(--disabled-bg-color);\n",
              "    fill: var(--disabled-fill-color);\n",
              "    box-shadow: none;\n",
              "  }\n",
              "\n",
              "  .colab-df-spinner {\n",
              "    border: 2px solid var(--fill-color);\n",
              "    border-color: transparent;\n",
              "    border-bottom-color: var(--fill-color);\n",
              "    animation:\n",
              "      spin 1s steps(1) infinite;\n",
              "  }\n",
              "\n",
              "  @keyframes spin {\n",
              "    0% {\n",
              "      border-color: transparent;\n",
              "      border-bottom-color: var(--fill-color);\n",
              "      border-left-color: var(--fill-color);\n",
              "    }\n",
              "    20% {\n",
              "      border-color: transparent;\n",
              "      border-left-color: var(--fill-color);\n",
              "      border-top-color: var(--fill-color);\n",
              "    }\n",
              "    30% {\n",
              "      border-color: transparent;\n",
              "      border-left-color: var(--fill-color);\n",
              "      border-top-color: var(--fill-color);\n",
              "      border-right-color: var(--fill-color);\n",
              "    }\n",
              "    40% {\n",
              "      border-color: transparent;\n",
              "      border-right-color: var(--fill-color);\n",
              "      border-top-color: var(--fill-color);\n",
              "    }\n",
              "    60% {\n",
              "      border-color: transparent;\n",
              "      border-right-color: var(--fill-color);\n",
              "    }\n",
              "    80% {\n",
              "      border-color: transparent;\n",
              "      border-right-color: var(--fill-color);\n",
              "      border-bottom-color: var(--fill-color);\n",
              "    }\n",
              "    90% {\n",
              "      border-color: transparent;\n",
              "      border-bottom-color: var(--fill-color);\n",
              "    }\n",
              "  }\n",
              "</style>\n",
              "\n",
              "  <script>\n",
              "    async function quickchart(key) {\n",
              "      const quickchartButtonEl =\n",
              "        document.querySelector('#' + key + ' button');\n",
              "      quickchartButtonEl.disabled = true;  // To prevent multiple clicks.\n",
              "      quickchartButtonEl.classList.add('colab-df-spinner');\n",
              "      try {\n",
              "        const charts = await google.colab.kernel.invokeFunction(\n",
              "            'suggestCharts', [key], {});\n",
              "      } catch (error) {\n",
              "        console.error('Error during call to suggestCharts:', error);\n",
              "      }\n",
              "      quickchartButtonEl.classList.remove('colab-df-spinner');\n",
              "      quickchartButtonEl.classList.add('colab-df-quickchart-complete');\n",
              "    }\n",
              "    (() => {\n",
              "      let quickchartButtonEl =\n",
              "        document.querySelector('#df-ee94402b-4a84-42f3-8408-c2440f767cde button');\n",
              "      quickchartButtonEl.style.display =\n",
              "        google.colab.kernel.accessAllowed ? 'block' : 'none';\n",
              "    })();\n",
              "  </script>\n",
              "</div>\n",
              "\n",
              "  <div id=\"id_ffb3cc8d-8491-4edb-9f0b-e56ca6253e4a\">\n",
              "    <style>\n",
              "      .colab-df-generate {\n",
              "        background-color: #E8F0FE;\n",
              "        border: none;\n",
              "        border-radius: 50%;\n",
              "        cursor: pointer;\n",
              "        display: none;\n",
              "        fill: #1967D2;\n",
              "        height: 32px;\n",
              "        padding: 0 0 0 0;\n",
              "        width: 32px;\n",
              "      }\n",
              "\n",
              "      .colab-df-generate:hover {\n",
              "        background-color: #E2EBFA;\n",
              "        box-shadow: 0px 1px 2px rgba(60, 64, 67, 0.3), 0px 1px 3px 1px rgba(60, 64, 67, 0.15);\n",
              "        fill: #174EA6;\n",
              "      }\n",
              "\n",
              "      [theme=dark] .colab-df-generate {\n",
              "        background-color: #3B4455;\n",
              "        fill: #D2E3FC;\n",
              "      }\n",
              "\n",
              "      [theme=dark] .colab-df-generate:hover {\n",
              "        background-color: #434B5C;\n",
              "        box-shadow: 0px 1px 3px 1px rgba(0, 0, 0, 0.15);\n",
              "        filter: drop-shadow(0px 1px 2px rgba(0, 0, 0, 0.3));\n",
              "        fill: #FFFFFF;\n",
              "      }\n",
              "    </style>\n",
              "    <button class=\"colab-df-generate\" onclick=\"generateWithVariable('new_df')\"\n",
              "            title=\"Generate code using this dataframe.\"\n",
              "            style=\"display:none;\">\n",
              "\n",
              "  <svg xmlns=\"http://www.w3.org/2000/svg\" height=\"24px\"viewBox=\"0 0 24 24\"\n",
              "       width=\"24px\">\n",
              "    <path d=\"M7,19H8.4L18.45,9,17,7.55,7,17.6ZM5,21V16.75L18.45,3.32a2,2,0,0,1,2.83,0l1.4,1.43a1.91,1.91,0,0,1,.58,1.4,1.91,1.91,0,0,1-.58,1.4L9.25,21ZM18.45,9,17,7.55Zm-12,3A5.31,5.31,0,0,0,4.9,8.1,5.31,5.31,0,0,0,1,6.5,5.31,5.31,0,0,0,4.9,4.9,5.31,5.31,0,0,0,6.5,1,5.31,5.31,0,0,0,8.1,4.9,5.31,5.31,0,0,0,12,6.5,5.46,5.46,0,0,0,6.5,12Z\"/>\n",
              "  </svg>\n",
              "    </button>\n",
              "    <script>\n",
              "      (() => {\n",
              "      const buttonEl =\n",
              "        document.querySelector('#id_ffb3cc8d-8491-4edb-9f0b-e56ca6253e4a button.colab-df-generate');\n",
              "      buttonEl.style.display =\n",
              "        google.colab.kernel.accessAllowed ? 'block' : 'none';\n",
              "\n",
              "      buttonEl.onclick = () => {\n",
              "        google.colab.notebook.generateWithVariable('new_df');\n",
              "      }\n",
              "      })();\n",
              "    </script>\n",
              "  </div>\n",
              "\n",
              "    </div>\n",
              "  </div>\n"
            ]
          },
          "metadata": {},
          "execution_count": 25
        }
      ]
    },
    {
      "cell_type": "code",
      "source": [
        "# It was determined the experience column mean.\n",
        "#Then this mean is assigned to the new variable and rounded. Then using fillna() function it was filled.\n",
        "experience_mean = np.round(df['experience'].mean())\n",
        "df['experience'] = df['experience'].fillna(experience_mean)"
      ],
      "metadata": {
        "id": "53JnaW3Duzxw"
      },
      "execution_count": null,
      "outputs": []
    },
    {
      "cell_type": "code",
      "source": [
        "# It was determined the monthly_salary column mean.\n",
        "#Then this mean is assigned to the new variable and rounded. Then using fillna() function it was filled.\n",
        "monthly_salary_mean = np.round(df['monthly_salary'].mean())\n",
        "df['monthly_salary'] = df['monthly_salary'].fillna(monthly_salary_mean)"
      ],
      "metadata": {
        "id": "pO9QkqMRuz0N"
      },
      "execution_count": null,
      "outputs": []
    },
    {
      "cell_type": "code",
      "source": [
        "# It was determined the the_total_number_of_work_hours_per_week column mean.\n",
        "#Then this mean is assigned to the new variable and rounded. Then using fillna() function it was filled.\n",
        "the_total_number_of_work_hours_per_week_mean = np.round(df['the_total_number_of_work_hours_per_week'].mean())\n",
        "df['the_total_number_of_work_hours_per_week'] = np.round(df['the_total_number_of_work_hours_per_week'].fillna(the_total_number_of_work_hours_per_week_mean))"
      ],
      "metadata": {
        "id": "9-W5bkWGuz22"
      },
      "execution_count": null,
      "outputs": []
    },
    {
      "cell_type": "code",
      "source": [
        "# It was determined the age_of_data_scientist column mean.\n",
        "# Then this mean is assigned to the new variable and rounded. Then using fillna() function it was filled.\n",
        "age_of_data_scientist_mean = np.round(df['age_of_data_scientist'].mean())\n",
        "df['age_of_data_scientist'] = np.round(df['age_of_data_scientist'].fillna(age_of_data_scientist_mean))"
      ],
      "metadata": {
        "id": "Upehli_puz5T"
      },
      "execution_count": null,
      "outputs": []
    },
    {
      "cell_type": "code",
      "source": [
        "# In the education column miss values was filled with using fillna() function.\n",
        "# We determined the first mode in the education column and assigned to the new variable.\n",
        "mode_value = df['education'].mode()[0]\n",
        "df['education'].fillna(mode_value, inplace=True)"
      ],
      "metadata": {
        "id": "d4ti8EPFviXo"
      },
      "execution_count": null,
      "outputs": []
    },
    {
      "cell_type": "code",
      "source": [
        "# In the programming_languages column miss values was filled with using fillna() function.\n",
        "# We determined the first mode in the education column and assigned to the new variable.\n",
        "mode_value = df['programming_languages'].mode()[0]\n",
        "df['programming_languages'].fillna(mode_value, inplace=True)"
      ],
      "metadata": {
        "id": "XmEhDA25viaa"
      },
      "execution_count": null,
      "outputs": []
    },
    {
      "cell_type": "code",
      "source": [
        "print(df.info())"
      ],
      "metadata": {
        "id": "ItUdi0oyxzdG"
      },
      "execution_count": null,
      "outputs": []
    },
    {
      "cell_type": "code",
      "source": [],
      "metadata": {
        "id": "9Bl7MsNzxzh7"
      },
      "execution_count": null,
      "outputs": []
    },
    {
      "cell_type": "code",
      "source": [
        "#Cleaned dataset was assigned df to clean_data3.\n",
        "clean_data3 = df"
      ],
      "metadata": {
        "id": "Xg7Pr_-XvidR"
      },
      "execution_count": null,
      "outputs": []
    },
    {
      "cell_type": "code",
      "source": [
        "#Exported the clean data to Excel.\n",
        "clean_data3.to_excel(\"cleandata3.xlsx\")"
      ],
      "metadata": {
        "id": "_ognPbaBvigA"
      },
      "execution_count": null,
      "outputs": []
    },
    {
      "cell_type": "code",
      "source": [
        "#The rest of this section contains data visualization codes."
      ],
      "metadata": {
        "id": "OEKkZJbkrMk7"
      },
      "execution_count": null,
      "outputs": []
    },
    {
      "cell_type": "code",
      "source": [
        "import pandas as pd\n",
        "import numpy as np\n",
        "import seaborn as sns\n",
        "import matplotlib.pyplot as plt\n"
      ],
      "metadata": {
        "id": "pybkc6O8rMiz"
      },
      "execution_count": null,
      "outputs": []
    },
    {
      "cell_type": "code",
      "source": [
        "df = pd.read_excel('cleandata3.xlsx')\n",
        "df = df.rename(columns={'Unnamed: 0': 'id'})\n",
        "mean_monthly_salary = df['monthly_salary'].mean()\n"
      ],
      "metadata": {
        "id": "KrO2tkyOrMgP"
      },
      "execution_count": null,
      "outputs": []
    },
    {
      "cell_type": "code",
      "source": [
        "# Are there specific programming languages that are associated with higher salaries among data scientist ?\n",
        "sns.boxplot(x=df['programming_languages'], y=df['monthly_salary'], data=df,palette='Blues')\n",
        "plt.xlabel('Programming Languages')\n",
        "plt.ylabel('Salary')\n",
        "plt.title('Salary Distribution by Programming Language for Data Scientists')\n",
        "plt.show()"
      ],
      "metadata": {
        "id": "2tL4AlN5rMdL"
      },
      "execution_count": null,
      "outputs": []
    },
    {
      "cell_type": "code",
      "source": [
        "# Is there a correlation between the size of the company (Small, Medium, Large) and the monthly salary of data scientists?\n",
        "plt.figure(figsize=(8, 6))\n",
        "sns.boxplot(x=df['company_size'], y=df['monthly_salary'], data=df,palette='Blues')\n",
        "plt.title('Company Size vs Monthly Salary Box Plot')\n",
        "plt.xlabel('Company Size')\n",
        "plt.ylabel('Monthly Salary')\n",
        "plt.show()"
      ],
      "metadata": {
        "id": "qlqNTzQtrMZN"
      },
      "execution_count": null,
      "outputs": []
    },
    {
      "cell_type": "code",
      "source": [
        "# How has the average salary of data scientists changed over the observed time period?\n",
        "df['year'] = df['date'].dt.year\n",
        "average_salaries = df.groupby('year')['monthly_salary'].mean()\n",
        "plt.plot(average_salaries.index, average_salaries, marker='o', linestyle='-',)\n",
        "plt.xlabel('Year')\n",
        "plt.ylabel('Average Salary')\n",
        "plt.title('Average Salary by Year')\n",
        "plt.ylim(bottom = 0 , top = 180000)\n",
        "plt.xticks(average_salaries.index, rotation=45)\n",
        "plt.grid(True, linestyle='--', alpha=0.7)\n",
        "plt.show()"
      ],
      "metadata": {
        "id": "vFAr75-TrMVA"
      },
      "execution_count": null,
      "outputs": []
    },
    {
      "cell_type": "code",
      "source": [
        "# What is the relationship between years of experience and the monthly salary of data scientists?\n",
        "# Is there a clear pattern of salary growth with increasing experience?\n",
        "sns.relplot(x='experience', y='monthly_salary', data=df, kind = \"line\" )\n",
        "plt.title('Relationship Between Experience and Monthly Salary')\n",
        "plt.xlabel('Years of Experience')\n",
        "plt.ylabel('Monthly Salary')\n",
        "plt.ylim(bottom = 0)\n",
        "plt.show()"
      ],
      "metadata": {
        "id": "VE4dvuMtrMHL"
      },
      "execution_count": null,
      "outputs": []
    },
    {
      "cell_type": "code",
      "source": [
        "# Does the work condition(remote,hybrid,office) have any influence on the salary of the data scientists?\n",
        "sns.violinplot(x='work_condition', y='monthly_salary', data=df)\n",
        "plt.xlabel('work_condition')\n",
        "plt.ylabel('monthly_salary')\n",
        "plt.title('Salary Distribution by Work Condition')\n",
        "sns.violinplot(x='work_condition', y='monthly_salary', data=df, palette='Blues')\n",
        "plt.show()"
      ],
      "metadata": {
        "id": "d2T58ln8tcBX"
      },
      "execution_count": null,
      "outputs": []
    },
    {
      "cell_type": "code",
      "source": [],
      "metadata": {
        "id": "74LVqH4Pt-5h"
      },
      "execution_count": null,
      "outputs": []
    }
  ]
}